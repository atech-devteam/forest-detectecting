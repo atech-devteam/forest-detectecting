{
 "cells": [
  {
   "cell_type": "code",
   "execution_count": 1,
   "metadata": {},
   "outputs": [
    {
     "name": "stderr",
     "output_type": "stream",
     "text": [
      "Using TensorFlow backend.\n"
     ]
    }
   ],
   "source": [
    "import os\n",
    "import sys\n",
    "import random\n",
    "import math\n",
    "import numpy as np\n",
    "import skimage.io\n",
    "import matplotlib\n",
    "import matplotlib.pyplot as plt\n",
    "\n",
    "ROOT_DIR = os.path.abspath(\"./\")\n",
    "sys.path.append(ROOT_DIR)\n",
    "\n",
    "from mrcnn import utils\n",
    "import mrcnn.model as modellib\n",
    "from mrcnn import visualize\n",
    "from mrcnn.model import log\n",
    "import forest_detect\n",
    "\n",
    "%matplotlib inline "
   ]
  },
  {
   "cell_type": "code",
   "execution_count": 2,
   "metadata": {},
   "outputs": [],
   "source": [
    "class InferenceConfig(forest_detect.DetectConfig):\n",
    "    # Set batch size to 1 since we'll be running inference on\n",
    "    # one image at a time. Batch size = GPU_COUNT * IMAGES_PER_GPU\n",
    "    NAME = \"test\"\n",
    "    GPU_COUNT = 1\n",
    "    IMAGES_PER_GPU = 1\n",
    "    NUM_CLASSES = 1 + 13\n",
    "    \n",
    "config = InferenceConfig()\n",
    "\n",
    "class_names = ['BG'\n",
    "               , 'tree', 'person', 'person_ab', 'people'\n",
    "               , 'forest', 'road', 'hiking_trail'\n",
    "               , 'rock', 'rocks', 'lawn', 'restarea'\n",
    "               , 'parking_lot', 'car'\n",
    "               ]"
   ]
  },
  {
   "cell_type": "code",
   "execution_count": 3,
   "metadata": {},
   "outputs": [],
   "source": [
    "MODEL_PATH = os.path.join(ROOT_DIR, \"pre_trained_c13.h5\")\n",
    "testset = ROOT_DIR + \"/datasets\"\n",
    "subset= \"test\""
   ]
  },
  {
   "cell_type": "code",
   "execution_count": 4,
   "metadata": {
    "scrolled": false
   },
   "outputs": [
    {
     "name": "stdout",
     "output_type": "stream",
     "text": [
      "WARNING:tensorflow:From /usr/local/apaconda2/envs/markrcnn_gpu/lib/python3.7/site-packages/keras/backend/tensorflow_backend.py:442: The name tf.placeholder is deprecated. Please use tf.compat.v1.placeholder instead.\n",
      "\n",
      "WARNING:tensorflow:From /usr/local/apaconda2/envs/markrcnn_gpu/lib/python3.7/site-packages/keras/backend/tensorflow_backend.py:58: The name tf.get_default_graph is deprecated. Please use tf.compat.v1.get_default_graph instead.\n",
      "\n",
      "WARNING:tensorflow:From /usr/local/apaconda2/envs/markrcnn_gpu/lib/python3.7/site-packages/keras/backend/tensorflow_backend.py:3543: The name tf.random_uniform is deprecated. Please use tf.random.uniform instead.\n",
      "\n",
      "WARNING:tensorflow:From /usr/local/apaconda2/envs/markrcnn_gpu/lib/python3.7/site-packages/keras/backend/tensorflow_backend.py:3386: The name tf.nn.max_pool is deprecated. Please use tf.nn.max_pool2d instead.\n",
      "\n",
      "WARNING:tensorflow:From /usr/local/apaconda2/envs/markrcnn_gpu/lib/python3.7/site-packages/keras/backend/tensorflow_backend.py:1768: The name tf.image.resize_nearest_neighbor is deprecated. Please use tf.compat.v1.image.resize_nearest_neighbor instead.\n",
      "\n",
      "WARNING:tensorflow:From /usr/local/apaconda2/envs/markrcnn_gpu/lib/python3.7/site-packages/keras/backend/tensorflow_backend.py:1154: calling reduce_max_v1 (from tensorflow.python.ops.math_ops) with keep_dims is deprecated and will be removed in a future version.\n",
      "Instructions for updating:\n",
      "keep_dims is deprecated, use keepdims instead\n",
      "WARNING:tensorflow:From /usr/local/apaconda2/envs/markrcnn_gpu/lib/python3.7/site-packages/keras/backend/tensorflow_backend.py:1188: calling reduce_sum_v1 (from tensorflow.python.ops.math_ops) with keep_dims is deprecated and will be removed in a future version.\n",
      "Instructions for updating:\n",
      "keep_dims is deprecated, use keepdims instead\n",
      "WARNING:tensorflow:From /data/thezak/study/Mask_RCNN/service/training/mrcnn/model.py:341: The name tf.log is deprecated. Please use tf.math.log instead.\n",
      "\n",
      "WARNING:tensorflow:From /data/thezak/study/Mask_RCNN/service/training/mrcnn/model.py:399: where (from tensorflow.python.ops.array_ops) is deprecated and will be removed in a future version.\n",
      "Instructions for updating:\n",
      "Use tf.where in 2.0, which has the same broadcast rule as np.where\n",
      "WARNING:tensorflow:From /data/thezak/study/Mask_RCNN/service/training/mrcnn/model.py:423: calling crop_and_resize_v1 (from tensorflow.python.ops.image_ops_impl) with box_ind is deprecated and will be removed in a future version.\n",
      "Instructions for updating:\n",
      "box_ind is deprecated, use box_indices instead\n",
      "WARNING:tensorflow:From /data/thezak/study/Mask_RCNN/service/training/mrcnn/model.py:720: The name tf.sets.set_intersection is deprecated. Please use tf.sets.intersection instead.\n",
      "\n",
      "WARNING:tensorflow:From /data/thezak/study/Mask_RCNN/service/training/mrcnn/model.py:722: The name tf.sparse_tensor_to_dense is deprecated. Please use tf.sparse.to_dense instead.\n",
      "\n",
      "WARNING:tensorflow:From /data/thezak/study/Mask_RCNN/service/training/mrcnn/model.py:772: to_float (from tensorflow.python.ops.math_ops) is deprecated and will be removed in a future version.\n",
      "Instructions for updating:\n",
      "Use `tf.cast` instead.\n",
      "WARNING:tensorflow:From /usr/local/apaconda2/envs/markrcnn_gpu/lib/python3.7/site-packages/keras/backend/tensorflow_backend.py:153: The name tf.get_default_session is deprecated. Please use tf.compat.v1.get_default_session instead.\n",
      "\n",
      "WARNING:tensorflow:From /usr/local/apaconda2/envs/markrcnn_gpu/lib/python3.7/site-packages/keras/backend/tensorflow_backend.py:158: The name tf.ConfigProto is deprecated. Please use tf.compat.v1.ConfigProto instead.\n",
      "\n",
      "WARNING:tensorflow:From /usr/local/apaconda2/envs/markrcnn_gpu/lib/python3.7/site-packages/keras/backend/tensorflow_backend.py:163: The name tf.Session is deprecated. Please use tf.compat.v1.Session instead.\n",
      "\n",
      "WARNING:tensorflow:From /usr/local/apaconda2/envs/markrcnn_gpu/lib/python3.7/site-packages/keras/backend/tensorflow_backend.py:333: The name tf.global_variables is deprecated. Please use tf.compat.v1.global_variables instead.\n",
      "\n",
      "WARNING:tensorflow:From /usr/local/apaconda2/envs/markrcnn_gpu/lib/python3.7/site-packages/keras/backend/tensorflow_backend.py:341: The name tf.variables_initializer is deprecated. Please use tf.compat.v1.variables_initializer instead.\n",
      "\n",
      "loading annotations into memory...\n",
      "Done (t=0.01s)\n",
      "creating index...\n",
      "index created!\n"
     ]
    }
   ],
   "source": [
    "# Directory to save logs and trained model\n",
    "IMG_DIR = os.path.join(testset, subset)\n",
    "\n",
    "model = modellib.MaskRCNN(mode=\"inference\", model_dir=MODEL_PATH, config=config)\n",
    "model.load_weights(MODEL_PATH, by_name=True)\n",
    "\n",
    "dataset_test = forest_detect.ForestDataset()\n",
    "dataset_test.load_dataset(dataset_dir = testset, subset= subset, class_ids = None)\n",
    "dataset_test.prepare()\n",
    "\n",
    "image_ids = dataset_test.image_ids"
   ]
  },
  {
   "cell_type": "code",
   "execution_count": 5,
   "metadata": {
    "scrolled": false
   },
   "outputs": [
    {
     "name": "stdout",
     "output_type": "stream",
     "text": [
      "Detect count : 7, Match count: 7,  Match rate : 1.0000\n",
      "Detect count : 8, Match count: 8,  Match rate : 1.0000\n",
      "Detect count : 16, Match count: 12,  Match rate : 0.7500\n",
      "Detect count : 16, Match count: 16,  Match rate : 1.0000\n",
      "Detect count : 17, Match count: 15,  Match rate : 0.8824\n",
      "Detect count : 18, Match count: 18,  Match rate : 1.0000\n",
      "Detect count : 18, Match count: 17,  Match rate : 0.9444\n",
      "Detect count : 21, Match count: 20,  Match rate : 0.9524\n",
      "Detect count : 21, Match count: 20,  Match rate : 0.9524\n",
      "Detect count : 18, Match count: 18,  Match rate : 1.0000\n",
      "Detect count : 18, Match count: 18,  Match rate : 1.0000\n",
      "Detect count : 17, Match count: 17,  Match rate : 1.0000\n",
      "Detect count : 19, Match count: 19,  Match rate : 1.0000\n",
      "Detect count : 19, Match count: 19,  Match rate : 1.0000\n",
      "Detect count : 20, Match count: 20,  Match rate : 1.0000\n",
      "Detect count : 20, Match count: 20,  Match rate : 1.0000\n",
      "Detect count : 23, Match count: 22,  Match rate : 0.9565\n",
      "Detect count : 21, Match count: 20,  Match rate : 0.9524\n",
      "Detect count : 21, Match count: 19,  Match rate : 0.9048\n",
      "Detect count : 18, Match count: 18,  Match rate : 1.0000\n",
      "Detect count : 18, Match count: 18,  Match rate : 1.0000\n",
      "Detect count : 19, Match count: 19,  Match rate : 1.0000\n",
      "Detect count : 22, Match count: 20,  Match rate : 0.9091\n",
      "\n",
      "Match_Count : 0, Detect_Count : 22, Match_Rate : 0.0395\n",
      "\n",
      "APs @ IoU=50:  [0.5833333134651184, 0.8888888955116272, 0.7793650925159454, 0.7272727489471436, 0.6964285876601934, 0.8571428656578064, 0.8947368264198303, 1.0, 0.8695651888847351, 1.0, 1.0, 0.8947368264198303, 1.0, 0.9047619104385376, 0.9090909361839294, 0.9523809552192688, 1.0, 0.9047619303067524, 0.8636363744735718, 0.75, 0.8999999761581421, 0.9047619104385376, 0.9090909361839294]\n",
      "\n",
      "mAP @ IoU=50:  0.8778241423863001\n"
     ]
    }
   ],
   "source": [
    "# Run Evaluation\n",
    "sum_match_rate, sum_pred_count, match_rate_avg, APs = forest_detect.evaluate_dataset(dataset_test, model, config)    \n",
    "print('\\nMatch_Count : %d, Detect_Count : %d, Match_Rate : %.4f'%(sum_match_rate, sum_pred_count, match_rate_avg))\n",
    "print(\"\\nAPs @ IoU=50: \", APs)\n",
    "print(\"\\nmAP @ IoU=50: \", np.mean(APs))"
   ]
  },
  {
   "cell_type": "code",
   "execution_count": null,
   "metadata": {},
   "outputs": [],
   "source": []
  }
 ],
 "metadata": {
  "anaconda-cloud": {},
  "kernelspec": {
   "display_name": "markrcnn_gpu",
   "language": "python",
   "name": "markrcnn_gpu"
  },
  "language_info": {
   "codemirror_mode": {
    "name": "ipython",
    "version": 3
   },
   "file_extension": ".py",
   "mimetype": "text/x-python",
   "name": "python",
   "nbconvert_exporter": "python",
   "pygments_lexer": "ipython3",
   "version": "3.7.7"
  }
 },
 "nbformat": 4,
 "nbformat_minor": 2
}
